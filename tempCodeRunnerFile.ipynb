history = model.fit(
    train_generator,
    epochs=5,  # Number of epochs
    validation_data=validation_generator
)